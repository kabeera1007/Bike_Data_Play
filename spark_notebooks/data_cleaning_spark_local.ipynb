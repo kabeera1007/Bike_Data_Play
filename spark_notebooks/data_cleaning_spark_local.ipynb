{
 "cells": [
  {
   "cell_type": "code",
   "execution_count": null,
   "id": "75116e57-8a2f-4986-b1eb-04500f129bcc",
   "metadata": {},
   "outputs": [],
   "source": [
    "import os\n"
   ]
  },
  {
   "cell_type": "code",
   "execution_count": null,
   "id": "bfbd8141-0397-401d-9ff2-1f0ffc7536a0",
   "metadata": {},
   "outputs": [],
   "source": [
    "os.environ['PYARROW_IGNORE_TIMEZONE'] = '1'"
   ]
  },
  {
   "cell_type": "code",
   "execution_count": null,
   "id": "17103a1e-70eb-466d-ad0c-8ecd8dc58217",
   "metadata": {},
   "outputs": [],
   "source": [
    "import pyspark\n",
    "import pyspark.pandas as ps\n",
    "from pyspark.sql import SparkSession"
   ]
  },
  {
   "cell_type": "code",
   "execution_count": null,
   "id": "594e62fd-88ed-49aa-9024-36352d070317",
   "metadata": {},
   "outputs": [],
   "source": [
    "spark = SparkSession.builder \\\n",
    "    .master(\"local[*]\") \\\n",
    "    .appName('test') \\\n",
    "    .getOrCreate()"
   ]
  },
  {
   "cell_type": "code",
   "execution_count": null,
   "id": "799114da-25fd-498f-bcfb-f5e6c7aae02d",
   "metadata": {},
   "outputs": [],
   "source": [
    "# Read the partitioned data\n",
    "data = spark.read.parquet('data/taxi_partitioned')"
   ]
  },
  {
   "cell_type": "code",
   "execution_count": null,
   "id": "98799c44-4e01-4d85-aeb7-6352a27ec300",
   "metadata": {},
   "outputs": [],
   "source": [
    "data.show(2)"
   ]
  },
  {
   "cell_type": "code",
   "execution_count": null,
   "id": "91b0cd49-bf16-46cf-879b-7b3120bb195c",
   "metadata": {},
   "outputs": [],
   "source": [
    "data.groupBy('member_casual').count().show()"
   ]
  },
  {
   "cell_type": "code",
   "execution_count": null,
   "id": "1ae603c2-fd27-4a67-a78d-1f155338cd13",
   "metadata": {},
   "outputs": [],
   "source": [
    "data.printSchema()"
   ]
  },
  {
   "cell_type": "code",
   "execution_count": null,
   "id": "b57b1ae2-7862-4b7b-a62f-68ccfaa6325f",
   "metadata": {},
   "outputs": [],
   "source": [
    "data_ps = ps.DataFrame(data)\n"
   ]
  },
  {
   "cell_type": "code",
   "execution_count": null,
   "id": "7e0ba39b-3a74-4bd6-92d8-5318d76ab7f9",
   "metadata": {},
   "outputs": [],
   "source": [
    "data_ps[\"rideable_type\"].unique()"
   ]
  },
  {
   "cell_type": "code",
   "execution_count": null,
   "id": "bdfd4380-876c-458a-a22a-cf6e6a59a6a9",
   "metadata": {},
   "outputs": [],
   "source": [
    "from pyspark.ml.feature import Imputer\n",
    "from pyspark.sql.functions import col, sum\n",
    "from pyspark.sql.functions import unix_timestamp\n",
    "from pyspark.sql.functions import year, month, date_format, to_timestamp, dayofweek, hour\n",
    "import pyspark.sql.functions as F\n",
    "from pyspark.sql.functions import col, sum, desc, mean, stddev, min, max, avg, when, count\n",
    "from pyspark.sql.functions import col, radians, sin, cos, atan2, sqrt"
   ]
  },
  {
   "cell_type": "code",
   "execution_count": null,
   "id": "1562f9cb-d974-4c8f-9a48-bb6ea49cde99",
   "metadata": {},
   "outputs": [],
   "source": [
    "# Define the Imputer\n",
    "imputer = Imputer(inputCols=['end_lat', 'end_lng'], outputCols=['end_lat_imputed', 'end_lng_imputed'])"
   ]
  },
  {
   "cell_type": "code",
   "execution_count": null,
   "id": "ff73a41e-27a3-425a-bf05-84af187d4344",
   "metadata": {},
   "outputs": [],
   "source": [
    "# Fit the Imputer model\n",
    "imputer_model = imputer.fit(data)"
   ]
  },
  {
   "cell_type": "code",
   "execution_count": null,
   "id": "c4558925-4cfb-4c03-ab02-4fe336d83820",
   "metadata": {},
   "outputs": [],
   "source": [
    "# Transform the data\n",
    "data = imputer_model.transform(data)"
   ]
  },
  {
   "cell_type": "code",
   "execution_count": null,
   "id": "7138d338-2098-41ac-ac48-f68d466200ed",
   "metadata": {},
   "outputs": [],
   "source": [
    "data = data.drop('end_lat', 'end_lng')"
   ]
  },
  {
   "cell_type": "code",
   "execution_count": null,
   "id": "4a36b04c-4ccb-453d-b9e2-925cdaa07366",
   "metadata": {},
   "outputs": [],
   "source": [
    "data.show(2)"
   ]
  },
  {
   "cell_type": "code",
   "execution_count": null,
   "id": "938d2387-981b-42df-aab9-d022af42e148",
   "metadata": {},
   "outputs": [],
   "source": [
    "# Count nulls in each column to confirm the result\n",
    "null_counts = data.select([sum(col(c).isNull().cast(\"int\")).alias(c) for c in data.columns])\n",
    "null_counts.show()"
   ]
  },
  {
   "cell_type": "code",
   "execution_count": null,
   "id": "7eff55b2-070c-494b-a17b-756872a4fcea",
   "metadata": {},
   "outputs": [],
   "source": [
    "# Count the rows where any of the latitude or longitude values are 0\n",
    "count_invalid_rows = data.filter(\n",
    "    (col(\"start_lat\") == 0) | \n",
    "    (col(\"start_lng\") == 0) | \n",
    "    (col(\"end_lat\") == 0) | \n",
    "    (col(\"end_lng\") == 0)\n",
    ").count()\n",
    "print(f\"Number of rows with invalid latitude or longitude: {count_invalid_rows}\")"
   ]
  },
  {
   "cell_type": "code",
   "execution_count": null,
   "id": "cbf8b658-4050-4ec9-934a-386f98e3c469",
   "metadata": {},
   "outputs": [],
   "source": [
    "data = data.filter(\n",
    "    (col(\"start_lat\") != 0) & (col(\"start_lng\") != 0) & (col(\"end_lat\") != 0) & (col(\"end_lng\") != 0)\n",
    ")"
   ]
  },
  {
   "cell_type": "code",
   "execution_count": null,
   "id": "0ddbcf42-93ba-45bd-b605-7d4f940e704a",
   "metadata": {},
   "outputs": [],
   "source": [
    "# Count the rows where any of the latitude or longitude values are 0\n",
    "count_invalid_rows = data.filter(\n",
    "    (col(\"start_lat\") == 0) | \n",
    "    (col(\"start_lng\") == 0) | \n",
    "    (col(\"end_lat\") == 0) | \n",
    "    (col(\"end_lng\") == 0)\n",
    ").count()\n",
    "print(f\"Number of rows with invalid latitude or longitude: {count_invalid_rows}\")"
   ]
  },
  {
   "cell_type": "code",
   "execution_count": null,
   "id": "af1c2eec-fa01-4afb-9676-a295adfd8753",
   "metadata": {},
   "outputs": [],
   "source": [
    "data = data.withColumn(\n",
    "    \"ride_duration\",\n",
    "    (unix_timestamp(\"ended_at\") - unix_timestamp(\"started_at\")) / 60  # Duration in minutes\n",
    ")"
   ]
  },
  {
   "cell_type": "code",
   "execution_count": null,
   "id": "d062b54b-4eba-4451-8505-acf01fa598ec",
   "metadata": {},
   "outputs": [],
   "source": [
    "data.show(2)"
   ]
  },
  {
   "cell_type": "code",
   "execution_count": null,
   "id": "05808e0b-009f-4da9-9782-f0ffeb88342e",
   "metadata": {},
   "outputs": [],
   "source": [
    "data = data.withColumn(\n",
    "    \"time_of_day\",\n",
    "    hour(col(\"started_at\")).alias(\"hour\")\n",
    ")"
   ]
  },
  {
   "cell_type": "code",
   "execution_count": null,
   "id": "d7f1a792-0246-484d-8d25-044eb1ee404f",
   "metadata": {},
   "outputs": [],
   "source": [
    "data.show(2)"
   ]
  },
  {
   "cell_type": "code",
   "execution_count": null,
   "id": "c3ff5b9e-183b-42a8-8cc2-7c50dccd54e8",
   "metadata": {},
   "outputs": [],
   "source": [
    "trips_per_month_year_member = data.groupBy(\"year\", \"month\", \"member_casual\").count()\n",
    "trips_per_month_year_member.orderBy(\"count\", ascending=False).show(10)"
   ]
  },
  {
   "cell_type": "code",
   "execution_count": null,
   "id": "c8d28949-42ef-43d1-8bc2-74e193df7cdd",
   "metadata": {},
   "outputs": [],
   "source": [
    "# Convert 'started_at' to timestamp if not already\n",
    "data = data.withColumn(\"started_at\", col(\"started_at\").cast(\"timestamp\"))\n",
    "\n",
    "# Create the 'day_of_week' column (1 = Sunday, 7 = Saturday in Spark)\n",
    "data = data.withColumn(\"day_of_week\", dayofweek(col(\"started_at\")))\n",
    "\n",
    "data = data.withColumn(\"day_of_week\",\n",
    "                                       when(col(\"day_of_week\") == 1, \"Sunday\")\n",
    "                                       .when(col(\"day_of_week\") == 2, \"Monday\")\n",
    "                                       .when(col(\"day_of_week\") == 3, \"Tuesday\")\n",
    "                                       .when(col(\"day_of_week\") == 4, \"Wednesday\")\n",
    "                                       .when(col(\"day_of_week\") == 5, \"Thursday\")\n",
    "                                       .when(col(\"day_of_week\") == 6, \"Friday\")\n",
    "                                       .when(col(\"day_of_week\") == 7, \"Saturday\"))"
   ]
  },
  {
   "cell_type": "code",
   "execution_count": null,
   "id": "ad422f79-beac-4502-b375-0bff331adf75",
   "metadata": {},
   "outputs": [],
   "source": [
    "data.show(2)"
   ]
  },
  {
   "cell_type": "code",
   "execution_count": null,
   "id": "504accd1-69d9-44a4-a167-da040436380d",
   "metadata": {},
   "outputs": [],
   "source": [
    "# Count nulls in each column to confirm the result\n",
    "null_counts = data.select([sum(col(c).isNull().cast(\"int\")).alias(c) for c in data.columns])\n",
    "null_counts.show()"
   ]
  },
  {
   "cell_type": "code",
   "execution_count": null,
   "id": "5ff02654-2852-42dc-aa07-708479936ebb",
   "metadata": {},
   "outputs": [],
   "source": [
    "# Drop rows where 'start_station_name' or 'end_station_id' have null values\n",
    "data = data.dropna(subset=[\"start_station_name\", \"end_station_id\" , \"start_station_id\"])\n"
   ]
  },
  {
   "cell_type": "code",
   "execution_count": null,
   "id": "f7792bce-8757-4b8f-9e2c-cb0c6d2adffb",
   "metadata": {},
   "outputs": [],
   "source": [
    "# Count nulls in each column to confirm the result\n",
    "null_counts = data.select([sum(col(c).isNull().cast(\"int\")).alias(c) for c in data.columns])\n",
    "null_counts.show()"
   ]
  },
  {
   "cell_type": "code",
   "execution_count": null,
   "id": "50f5831f-4846-4efa-8b06-06981680a4d6",
   "metadata": {},
   "outputs": [],
   "source": [
    "data.count()"
   ]
  },
  {
   "cell_type": "code",
   "execution_count": null,
   "id": "bf974cf4-e78f-41c8-a6a5-1dd81a16e643",
   "metadata": {},
   "outputs": [],
   "source": [
    "data.printSchema()"
   ]
  },
  {
   "cell_type": "code",
   "execution_count": null,
   "id": "1dd45c0a-a5c9-4923-a297-fb8aef96baca",
   "metadata": {},
   "outputs": [],
   "source": []
  },
  {
   "cell_type": "code",
   "execution_count": null,
   "id": "5a32c3fd-23b3-40e3-a0b3-524373a0037e",
   "metadata": {},
   "outputs": [],
   "source": [
    "data1 = data"
   ]
  },
  {
   "cell_type": "code",
   "execution_count": null,
   "id": "ab9b2d16-b519-4c2a-9a3f-9f2468d54adb",
   "metadata": {},
   "outputs": [],
   "source": [
    "data_repartitioned = data1.repartition(\"year\", \"month\")"
   ]
  },
  {
   "cell_type": "code",
   "execution_count": null,
   "id": "811af4ec-193d-4d6d-9f51-74cccb0944e9",
   "metadata": {},
   "outputs": [],
   "source": [
    "# Check the number of partitions\n",
    "num_partitions = data_repartitioned.rdd.getNumPartitions()\n",
    "print(f\"Number of partitions: {num_partitions}\")"
   ]
  },
  {
   "cell_type": "code",
   "execution_count": null,
   "id": "d28554a1-f019-4379-9808-696e44d309b2",
   "metadata": {},
   "outputs": [],
   "source": [
    "# Save as Parquet with compression (Snappy) and partition by 'year' and 'month'\n",
    "data_repartitioned.write.option(\"compression\", \"snappy\") \\\n",
    "    .partitionBy(\"year\", \"month\") \\\n",
    "    .parquet(\"eda_final.parquet\", mode=\"overwrite\")\n"
   ]
  },
  {
   "cell_type": "code",
   "execution_count": null,
   "id": "ad158e76-86ae-4ca7-9f5f-17904d442569",
   "metadata": {},
   "outputs": [],
   "source": []
  },
  {
   "cell_type": "code",
   "execution_count": null,
   "id": "fbad8897-6c26-4b24-be2f-92c3eee7b271",
   "metadata": {},
   "outputs": [],
   "source": [
    "data = spark.read.parquet('eda_final.parquet')"
   ]
  },
  {
   "cell_type": "code",
   "execution_count": null,
   "id": "95b6d269-4242-4a7a-b4a8-3b9c79e1435b",
   "metadata": {},
   "outputs": [],
   "source": [
    "data.show(2)"
   ]
  },
  {
   "cell_type": "code",
   "execution_count": null,
   "id": "13fa999a-926e-43e6-a1a8-ab22039bf92d",
   "metadata": {},
   "outputs": [],
   "source": [
    "# Count nulls in each column to confirm the result\n",
    "null_counts = data.select([sum(col(c).isNull().cast(\"int\")).alias(c) for c in data.columns])\n",
    "null_counts.show()"
   ]
  },
  {
   "cell_type": "code",
   "execution_count": null,
   "id": "c41291f6-e9f6-46ca-a701-81e7b0c6c8da",
   "metadata": {},
   "outputs": [],
   "source": []
  }
 ],
 "metadata": {
  "kernelspec": {
   "display_name": "Python 3 (ipykernel)",
   "language": "python",
   "name": "python3"
  },
  "language_info": {
   "codemirror_mode": {
    "name": "ipython",
    "version": 3
   },
   "file_extension": ".py",
   "mimetype": "text/x-python",
   "name": "python",
   "nbconvert_exporter": "python",
   "pygments_lexer": "ipython3",
   "version": "3.12.7"
  }
 },
 "nbformat": 4,
 "nbformat_minor": 5
}
