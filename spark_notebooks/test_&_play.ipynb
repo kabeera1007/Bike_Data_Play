{
 "cells": [
  {
   "cell_type": "code",
   "execution_count": 1,
   "id": "9daef93b-0364-4a85-9d9c-987c3d43776e",
   "metadata": {},
   "outputs": [],
   "source": [
    "import pyspark"
   ]
  },
  {
   "cell_type": "code",
   "execution_count": null,
   "id": "51d42079-c519-4e4a-a15c-adcf5018921c",
   "metadata": {},
   "outputs": [],
   "source": [
    "# my path for py4j lib \n",
    "#import sys\n",
    "#sys.path.append(\"/opt/spark-3.4.4/python\")\n",
    "#sys.path.append(\"/opt/spark-3.4.4/python/lib/py4j-0.10.9.7-src.zip\")\n"
   ]
  },
  {
   "cell_type": "code",
   "execution_count": null,
   "id": "e32ca653-936b-4429-86fe-a0c9e434cdad",
   "metadata": {},
   "outputs": [],
   "source": [
    "#pyspark.__file__"
   ]
  },
  {
   "cell_type": "code",
   "execution_count": null,
   "id": "ab39cdec-ec93-49d7-9051-08fec87684dc",
   "metadata": {},
   "outputs": [],
   "source": [
    "#print(pyspark.__version__)"
   ]
  },
  {
   "cell_type": "code",
   "execution_count": null,
   "id": "46d863cd-d638-4d71-a1b6-2ad68164898b",
   "metadata": {},
   "outputs": [],
   "source": [
    "#!python --version\n"
   ]
  },
  {
   "cell_type": "code",
   "execution_count": 2,
   "id": "e0d525aa-35e8-4bbf-b6ad-579300dd7d5a",
   "metadata": {},
   "outputs": [],
   "source": [
    "from pyspark.sql import SparkSession"
   ]
  },
  {
   "cell_type": "code",
   "execution_count": 3,
   "id": "1b2c82c9-c973-415a-a380-fa3f33495bc5",
   "metadata": {},
   "outputs": [
    {
     "name": "stderr",
     "output_type": "stream",
     "text": [
      "Setting default log level to \"WARN\".\n",
      "To adjust logging level use sc.setLogLevel(newLevel). For SparkR, use setLogLevel(newLevel).\n",
      "24/12/29 12:49:49 WARN NativeCodeLoader: Unable to load native-hadoop library for your platform... using builtin-java classes where applicable\n"
     ]
    }
   ],
   "source": [
    "spark = SparkSession.builder \\\n",
    "    .master(\"local[*]\") \\\n",
    "    .appName('test') \\\n",
    "    .getOrCreate()"
   ]
  },
  {
   "cell_type": "code",
   "execution_count": null,
   "id": "d6ff8f7e-60b0-4603-9846-54d248acb846",
   "metadata": {},
   "outputs": [],
   "source": [
    "# main data source : https://divvy-tripdata.s3.amazonaws.com/index.html "
   ]
  },
  {
   "cell_type": "code",
   "execution_count": null,
   "id": "727a989d-273d-4fe5-90e9-f6c8c0da6506",
   "metadata": {},
   "outputs": [],
   "source": [
    "#!wget https://divvy-tripdata.s3.amazonaws.com/202004-divvy-tripdata.zip"
   ]
  },
  {
   "cell_type": "code",
   "execution_count": 4,
   "id": "3c1b2190-fc72-41be-9dee-2340ae8fb903",
   "metadata": {},
   "outputs": [],
   "source": [
    "import zipfile\n",
    "import pandas as pd"
   ]
  },
  {
   "cell_type": "code",
   "execution_count": 5,
   "id": "7a1ef1bf-d0e4-48db-ad4b-d95d8ebed201",
   "metadata": {},
   "outputs": [],
   "source": [
    "# Define the path to the zip file\n",
    "zip_file_path = '202004-divvy-tripdata.zip.1'"
   ]
  },
  {
   "cell_type": "code",
   "execution_count": 6,
   "id": "46072beb-1d51-4249-a877-d3c7508fc77a",
   "metadata": {},
   "outputs": [
    {
     "name": "stdout",
     "output_type": "stream",
     "text": [
      "File Name                                             Modified             Size\n",
      "202004-divvy-tripdata.csv                      2020-06-01 10:43:50     14254024\n",
      "__MACOSX/                                      2020-06-01 10:49:02            0\n",
      "__MACOSX/._202004-divvy-tripdata.csv           2020-06-01 10:43:50          434\n"
     ]
    },
    {
     "data": {
      "text/html": [
       "<div>\n",
       "<style scoped>\n",
       "    .dataframe tbody tr th:only-of-type {\n",
       "        vertical-align: middle;\n",
       "    }\n",
       "\n",
       "    .dataframe tbody tr th {\n",
       "        vertical-align: top;\n",
       "    }\n",
       "\n",
       "    .dataframe thead th {\n",
       "        text-align: right;\n",
       "    }\n",
       "</style>\n",
       "<table border=\"1\" class=\"dataframe\">\n",
       "  <thead>\n",
       "    <tr style=\"text-align: right;\">\n",
       "      <th></th>\n",
       "      <th>ride_id</th>\n",
       "      <th>rideable_type</th>\n",
       "      <th>started_at</th>\n",
       "      <th>ended_at</th>\n",
       "      <th>start_station_name</th>\n",
       "      <th>start_station_id</th>\n",
       "      <th>end_station_name</th>\n",
       "      <th>end_station_id</th>\n",
       "      <th>start_lat</th>\n",
       "      <th>start_lng</th>\n",
       "      <th>end_lat</th>\n",
       "      <th>end_lng</th>\n",
       "      <th>member_casual</th>\n",
       "    </tr>\n",
       "  </thead>\n",
       "  <tbody>\n",
       "    <tr>\n",
       "      <th>0</th>\n",
       "      <td>A847FADBBC638E45</td>\n",
       "      <td>docked_bike</td>\n",
       "      <td>2020-04-26 17:45:14</td>\n",
       "      <td>2020-04-26 18:12:03</td>\n",
       "      <td>Eckhart Park</td>\n",
       "      <td>86</td>\n",
       "      <td>Lincoln Ave &amp; Diversey Pkwy</td>\n",
       "      <td>152.0</td>\n",
       "      <td>41.8964</td>\n",
       "      <td>-87.6610</td>\n",
       "      <td>41.9322</td>\n",
       "      <td>-87.6586</td>\n",
       "      <td>member</td>\n",
       "    </tr>\n",
       "    <tr>\n",
       "      <th>1</th>\n",
       "      <td>5405B80E996FF60D</td>\n",
       "      <td>docked_bike</td>\n",
       "      <td>2020-04-17 17:08:54</td>\n",
       "      <td>2020-04-17 17:17:03</td>\n",
       "      <td>Drake Ave &amp; Fullerton Ave</td>\n",
       "      <td>503</td>\n",
       "      <td>Kosciuszko Park</td>\n",
       "      <td>499.0</td>\n",
       "      <td>41.9244</td>\n",
       "      <td>-87.7154</td>\n",
       "      <td>41.9306</td>\n",
       "      <td>-87.7238</td>\n",
       "      <td>member</td>\n",
       "    </tr>\n",
       "    <tr>\n",
       "      <th>2</th>\n",
       "      <td>5DD24A79A4E006F4</td>\n",
       "      <td>docked_bike</td>\n",
       "      <td>2020-04-01 17:54:13</td>\n",
       "      <td>2020-04-01 18:08:36</td>\n",
       "      <td>McClurg Ct &amp; Erie St</td>\n",
       "      <td>142</td>\n",
       "      <td>Indiana Ave &amp; Roosevelt Rd</td>\n",
       "      <td>255.0</td>\n",
       "      <td>41.8945</td>\n",
       "      <td>-87.6179</td>\n",
       "      <td>41.8679</td>\n",
       "      <td>-87.6230</td>\n",
       "      <td>member</td>\n",
       "    </tr>\n",
       "    <tr>\n",
       "      <th>3</th>\n",
       "      <td>2A59BBDF5CDBA725</td>\n",
       "      <td>docked_bike</td>\n",
       "      <td>2020-04-07 12:50:19</td>\n",
       "      <td>2020-04-07 13:02:31</td>\n",
       "      <td>California Ave &amp; Division St</td>\n",
       "      <td>216</td>\n",
       "      <td>Wood St &amp; Augusta Blvd</td>\n",
       "      <td>657.0</td>\n",
       "      <td>41.9030</td>\n",
       "      <td>-87.6975</td>\n",
       "      <td>41.8992</td>\n",
       "      <td>-87.6722</td>\n",
       "      <td>member</td>\n",
       "    </tr>\n",
       "    <tr>\n",
       "      <th>4</th>\n",
       "      <td>27AD306C119C6158</td>\n",
       "      <td>docked_bike</td>\n",
       "      <td>2020-04-18 10:22:59</td>\n",
       "      <td>2020-04-18 11:15:54</td>\n",
       "      <td>Rush St &amp; Hubbard St</td>\n",
       "      <td>125</td>\n",
       "      <td>Sheridan Rd &amp; Lawrence Ave</td>\n",
       "      <td>323.0</td>\n",
       "      <td>41.8902</td>\n",
       "      <td>-87.6262</td>\n",
       "      <td>41.9695</td>\n",
       "      <td>-87.6547</td>\n",
       "      <td>casual</td>\n",
       "    </tr>\n",
       "  </tbody>\n",
       "</table>\n",
       "</div>"
      ],
      "text/plain": [
       "            ride_id rideable_type           started_at             ended_at  \\\n",
       "0  A847FADBBC638E45   docked_bike  2020-04-26 17:45:14  2020-04-26 18:12:03   \n",
       "1  5405B80E996FF60D   docked_bike  2020-04-17 17:08:54  2020-04-17 17:17:03   \n",
       "2  5DD24A79A4E006F4   docked_bike  2020-04-01 17:54:13  2020-04-01 18:08:36   \n",
       "3  2A59BBDF5CDBA725   docked_bike  2020-04-07 12:50:19  2020-04-07 13:02:31   \n",
       "4  27AD306C119C6158   docked_bike  2020-04-18 10:22:59  2020-04-18 11:15:54   \n",
       "\n",
       "             start_station_name  start_station_id  \\\n",
       "0                  Eckhart Park                86   \n",
       "1     Drake Ave & Fullerton Ave               503   \n",
       "2          McClurg Ct & Erie St               142   \n",
       "3  California Ave & Division St               216   \n",
       "4          Rush St & Hubbard St               125   \n",
       "\n",
       "              end_station_name  end_station_id  start_lat  start_lng  end_lat  \\\n",
       "0  Lincoln Ave & Diversey Pkwy           152.0    41.8964   -87.6610  41.9322   \n",
       "1              Kosciuszko Park           499.0    41.9244   -87.7154  41.9306   \n",
       "2   Indiana Ave & Roosevelt Rd           255.0    41.8945   -87.6179  41.8679   \n",
       "3       Wood St & Augusta Blvd           657.0    41.9030   -87.6975  41.8992   \n",
       "4   Sheridan Rd & Lawrence Ave           323.0    41.8902   -87.6262  41.9695   \n",
       "\n",
       "   end_lng member_casual  \n",
       "0 -87.6586        member  \n",
       "1 -87.7238        member  \n",
       "2 -87.6230        member  \n",
       "3 -87.6722        member  \n",
       "4 -87.6547        casual  "
      ]
     },
     "execution_count": 6,
     "metadata": {},
     "output_type": "execute_result"
    }
   ],
   "source": [
    "# Open the zip file and list its contents\n",
    "with zipfile.ZipFile(zip_file_path, 'r') as zip_ref:\n",
    "    # List all file names inside the zip file\n",
    "    zip_ref.printdir()\n",
    "\n",
    "    # Get the first file name in the zip (assumed to be the CSV)\n",
    "    csv_file = zip_ref.namelist()[0]\n",
    "\n",
    "    # Read the CSV file into a pandas DataFrame directly from the zip without extracting\n",
    "    with zip_ref.open(csv_file) as file:\n",
    "        df = pd.read_csv(file)\n",
    "\n",
    "# Print the first few rows of the DataFrame\n",
    "df.head()"
   ]
  },
  {
   "cell_type": "code",
   "execution_count": 7,
   "id": "1da8499c-c934-43fa-8ce4-c826967a09ea",
   "metadata": {},
   "outputs": [],
   "source": [
    "import io"
   ]
  },
  {
   "cell_type": "code",
   "execution_count": 8,
   "id": "4600b5b0-128b-4fe9-8d45-877234d36039",
   "metadata": {},
   "outputs": [
    {
     "name": "stdout",
     "output_type": "stream",
     "text": [
      "File Name                                             Modified             Size\n",
      "202004-divvy-tripdata.csv                      2020-06-01 10:43:50     14254024\n",
      "__MACOSX/                                      2020-06-01 10:49:02            0\n",
      "__MACOSX/._202004-divvy-tripdata.csv           2020-06-01 10:43:50          434\n",
      "+----------------+-------------+-------------------+-------------------+--------------------+----------------+--------------------+--------------+---------+---------+-------+--------+-------------+\n",
      "|         ride_id|rideable_type|         started_at|           ended_at|  start_station_name|start_station_id|    end_station_name|end_station_id|start_lat|start_lng|end_lat| end_lng|member_casual|\n",
      "+----------------+-------------+-------------------+-------------------+--------------------+----------------+--------------------+--------------+---------+---------+-------+--------+-------------+\n",
      "|A847FADBBC638E45|  docked_bike|2020-04-26 17:45:14|2020-04-26 18:12:03|        Eckhart Park|              86|Lincoln Ave & Div...|           152|  41.8964|  -87.661|41.9322|-87.6586|       member|\n",
      "|5405B80E996FF60D|  docked_bike|2020-04-17 17:08:54|2020-04-17 17:17:03|Drake Ave & Fulle...|             503|     Kosciuszko Park|           499|  41.9244| -87.7154|41.9306|-87.7238|       member|\n",
      "|5DD24A79A4E006F4|  docked_bike|2020-04-01 17:54:13|2020-04-01 18:08:36|McClurg Ct & Erie St|             142|Indiana Ave & Roo...|           255|  41.8945| -87.6179|41.8679| -87.623|       member|\n",
      "|2A59BBDF5CDBA725|  docked_bike|2020-04-07 12:50:19|2020-04-07 13:02:31|California Ave & ...|             216|Wood St & Augusta...|           657|   41.903| -87.6975|41.8992|-87.6722|       member|\n",
      "|27AD306C119C6158|  docked_bike|2020-04-18 10:22:59|2020-04-18 11:15:54|Rush St & Hubbard St|             125|Sheridan Rd & Law...|           323|  41.8902| -87.6262|41.9695|-87.6547|       casual|\n",
      "+----------------+-------------+-------------------+-------------------+--------------------+----------------+--------------------+--------------+---------+---------+-------+--------+-------------+\n",
      "only showing top 5 rows\n",
      "\n"
     ]
    }
   ],
   "source": [
    "# Define a temporary file path\n",
    "temp_csv_path = 'temp_bikes.csv'\n",
    "\n",
    "# Open the zip file and extract the CSV file\n",
    "with zipfile.ZipFile(zip_file_path, 'r') as zip_ref:\n",
    "    # List all file names inside the zip file\n",
    "    zip_ref.printdir()\n",
    "\n",
    "    # Get the first file name in the zip (assumed to be the CSV)\n",
    "    csv_file = zip_ref.namelist()[0]\n",
    "\n",
    "    # Extract the CSV file and save it temporarily\n",
    "    with zip_ref.open(csv_file) as file:\n",
    "        with open(temp_csv_path, 'wb') as temp_file:\n",
    "            temp_file.write(file.read())\n",
    "\n",
    "# Now read the CSV file with Spark\n",
    "df = spark.read.option(\"header\", \"true\").csv(temp_csv_path)\n",
    "\n",
    "# Show the first few rows of the DataFrame\n",
    "df.show(5)\n"
   ]
  },
  {
   "cell_type": "code",
   "execution_count": 9,
   "id": "c0bc60af-0ea8-4a25-9bbe-7c92d55600ed",
   "metadata": {},
   "outputs": [
    {
     "data": {
      "text/plain": [
       "StructType([StructField('ride_id', StringType(), True), StructField('rideable_type', StringType(), True), StructField('started_at', StringType(), True), StructField('ended_at', StringType(), True), StructField('start_station_name', StringType(), True), StructField('start_station_id', StringType(), True), StructField('end_station_name', StringType(), True), StructField('end_station_id', StringType(), True), StructField('start_lat', StringType(), True), StructField('start_lng', StringType(), True), StructField('end_lat', StringType(), True), StructField('end_lng', StringType(), True), StructField('member_casual', StringType(), True)])"
      ]
     },
     "execution_count": 9,
     "metadata": {},
     "output_type": "execute_result"
    }
   ],
   "source": [
    "df.schema"
   ]
  },
  {
   "cell_type": "code",
   "execution_count": 10,
   "id": "892a2413-0227-41c8-a671-e4c4932daac3",
   "metadata": {},
   "outputs": [
    {
     "name": "stdout",
     "output_type": "stream",
     "text": [
      "root\n",
      " |-- ride_id: string (nullable = true)\n",
      " |-- rideable_type: string (nullable = true)\n",
      " |-- started_at: string (nullable = true)\n",
      " |-- ended_at: string (nullable = true)\n",
      " |-- start_station_name: string (nullable = true)\n",
      " |-- start_station_id: string (nullable = true)\n",
      " |-- end_station_name: string (nullable = true)\n",
      " |-- end_station_id: string (nullable = true)\n",
      " |-- start_lat: string (nullable = true)\n",
      " |-- start_lng: string (nullable = true)\n",
      " |-- end_lat: string (nullable = true)\n",
      " |-- end_lng: string (nullable = true)\n",
      " |-- member_casual: string (nullable = true)\n",
      "\n"
     ]
    }
   ],
   "source": [
    "df.printSchema()"
   ]
  },
  {
   "cell_type": "code",
   "execution_count": 11,
   "id": "07eaa658-30cb-4bf5-b624-1eabe912c9a1",
   "metadata": {},
   "outputs": [],
   "source": [
    "from pyspark.sql.functions import col, to_timestamp"
   ]
  },
  {
   "cell_type": "code",
   "execution_count": 12,
   "id": "e6430b8c-9e49-4b24-800f-24accbff2424",
   "metadata": {},
   "outputs": [
    {
     "name": "stdout",
     "output_type": "stream",
     "text": [
      "root\n",
      " |-- ride_id: string (nullable = true)\n",
      " |-- rideable_type: string (nullable = true)\n",
      " |-- started_at: timestamp (nullable = true)\n",
      " |-- ended_at: timestamp (nullable = true)\n",
      " |-- start_station_name: string (nullable = true)\n",
      " |-- start_station_id: string (nullable = true)\n",
      " |-- end_station_name: string (nullable = true)\n",
      " |-- end_station_id: string (nullable = true)\n",
      " |-- start_lat: string (nullable = true)\n",
      " |-- start_lng: string (nullable = true)\n",
      " |-- end_lat: string (nullable = true)\n",
      " |-- end_lng: string (nullable = true)\n",
      " |-- member_casual: string (nullable = true)\n",
      "\n"
     ]
    }
   ],
   "source": [
    "# Convert 'started_at' and 'ended_at' columns to timestamp format\n",
    "df = df.withColumn('started_at', to_timestamp('started_at', 'yyyy-MM-dd HH:mm:ss')) \\\n",
    "       .withColumn('ended_at', to_timestamp('ended_at', 'yyyy-MM-dd HH:mm:ss'))\n",
    "\n",
    "# Show the updated DataFrame schema and the first few rows\n",
    "df.printSchema()\n",
    "\n"
   ]
  },
  {
   "cell_type": "code",
   "execution_count": 13,
   "id": "dea40129-4ec0-4c14-9b55-68891636f925",
   "metadata": {},
   "outputs": [
    {
     "name": "stdout",
     "output_type": "stream",
     "text": [
      "+----------------+-------------+-------------------+-------------------+--------------------+----------------+--------------------+--------------+---------+---------+-------+--------+-------------+\n",
      "|         ride_id|rideable_type|         started_at|           ended_at|  start_station_name|start_station_id|    end_station_name|end_station_id|start_lat|start_lng|end_lat| end_lng|member_casual|\n",
      "+----------------+-------------+-------------------+-------------------+--------------------+----------------+--------------------+--------------+---------+---------+-------+--------+-------------+\n",
      "|A847FADBBC638E45|  docked_bike|2020-04-26 17:45:14|2020-04-26 18:12:03|        Eckhart Park|              86|Lincoln Ave & Div...|           152|  41.8964|  -87.661|41.9322|-87.6586|       member|\n",
      "|5405B80E996FF60D|  docked_bike|2020-04-17 17:08:54|2020-04-17 17:17:03|Drake Ave & Fulle...|             503|     Kosciuszko Park|           499|  41.9244| -87.7154|41.9306|-87.7238|       member|\n",
      "+----------------+-------------+-------------------+-------------------+--------------------+----------------+--------------------+--------------+---------+---------+-------+--------+-------------+\n",
      "only showing top 2 rows\n",
      "\n"
     ]
    }
   ],
   "source": [
    "df.show(2)"
   ]
  },
  {
   "cell_type": "code",
   "execution_count": 14,
   "id": "25f9d511-a0b1-489e-9857-e54fef2a8635",
   "metadata": {},
   "outputs": [],
   "source": [
    "import pyarrow as pa\n",
    "import pyarrow.parquet as pq"
   ]
  },
  {
   "cell_type": "code",
   "execution_count": 15,
   "id": "cbed92ab-65e7-44ee-8ee7-7143c546c11f",
   "metadata": {},
   "outputs": [],
   "source": [
    "df = df.withColumn(\"started_at\", to_timestamp(df[\"started_at\"]))\n",
    "df = df.withColumn(\"ended_at\", to_timestamp(df[\"ended_at\"]))"
   ]
  },
  {
   "cell_type": "code",
   "execution_count": 16,
   "id": "8df309f6-144f-42f6-b1aa-be57ca52a52b",
   "metadata": {},
   "outputs": [],
   "source": [
    "df = df.withColumn(\"start_lat\", col(\"start_lat\").cast(\"float\"))\n",
    "df = df.withColumn(\"start_lng\", col(\"start_lng\").cast(\"float\"))\n",
    "df = df.withColumn(\"end_lat\", col(\"end_lat\").cast(\"float\"))\n",
    "df = df.withColumn(\"end_lng\", col(\"end_lng\").cast(\"float\"))\n"
   ]
  },
  {
   "cell_type": "code",
   "execution_count": 23,
   "id": "b20ff513-f7a2-4bef-9c38-b38e66547c5d",
   "metadata": {},
   "outputs": [
    {
     "name": "stdout",
     "output_type": "stream",
     "text": [
      "root\n",
      " |-- ride_id: string (nullable = true)\n",
      " |-- rideable_type: string (nullable = true)\n",
      " |-- started_at: timestamp (nullable = true)\n",
      " |-- ended_at: timestamp (nullable = true)\n",
      " |-- start_station_name: string (nullable = true)\n",
      " |-- start_station_id: string (nullable = true)\n",
      " |-- end_station_name: string (nullable = true)\n",
      " |-- end_station_id: string (nullable = true)\n",
      " |-- start_lat: float (nullable = true)\n",
      " |-- start_lng: float (nullable = true)\n",
      " |-- end_lat: float (nullable = true)\n",
      " |-- end_lng: float (nullable = true)\n",
      " |-- member_casual: string (nullable = true)\n",
      "\n"
     ]
    }
   ],
   "source": [
    "df.printSchema()"
   ]
  },
  {
   "cell_type": "code",
   "execution_count": 24,
   "id": "ff1e3ff4-c680-4442-a764-a34ba929d7b7",
   "metadata": {},
   "outputs": [
    {
     "name": "stderr",
     "output_type": "stream",
     "text": [
      "                                                                                \r"
     ]
    }
   ],
   "source": [
    "df.write.parquet('ride_data_test_play.parquet')"
   ]
  },
  {
   "cell_type": "code",
   "execution_count": null,
   "id": "6e45897f-2ef6-4d8c-8dfc-85cb9c5d32a9",
   "metadata": {},
   "outputs": [],
   "source": []
  }
 ],
 "metadata": {
  "kernelspec": {
   "display_name": "Python 3 (ipykernel)",
   "language": "python",
   "name": "python3"
  },
  "language_info": {
   "codemirror_mode": {
    "name": "ipython",
    "version": 3
   },
   "file_extension": ".py",
   "mimetype": "text/x-python",
   "name": "python",
   "nbconvert_exporter": "python",
   "pygments_lexer": "ipython3",
   "version": "3.12.7"
  }
 },
 "nbformat": 4,
 "nbformat_minor": 5
}
