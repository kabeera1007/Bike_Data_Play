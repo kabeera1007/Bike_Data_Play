{
 "cells": [
  {
   "cell_type": "markdown",
   "id": "b159670f-2e35-461e-b123-b1db94b8f5af",
   "metadata": {},
   "source": [
    "Start master ::    cd $SPARK_HOME   >>>   ./sbin/start-master.sh\n",
    "\n",
    "or if airflow is using 8080  then assign different port ::      export SPARK_MASTER_WEBUI_PORT=8081  >>> ./sbin/start-master.sh"
   ]
  },
  {
   "cell_type": "markdown",
   "id": "3dcee23f-141f-44e7-943b-741a319d09e9",
   "metadata": {},
   "source": [
    "Start worker ::   ./sbin/start-worker.sh <( master-spaark-URL)>\n"
   ]
  },
  {
   "cell_type": "markdown",
   "id": "4d8a628d-770b-4255-a5e0-6848731b4a4b",
   "metadata": {},
   "source": [
    "Submit the job :: ::  $SPARK_HOME/bin/spark-submit --master spark://project-001.europe-west10-b.c.project-001-445912.internal:7077 url_to_clean_gcs.py --start_year 2020 --end_year 2024 \n"
   ]
  },
  {
   "cell_type": "raw",
   "id": "692f3ab0-a84c-4efc-af8c-e79ddef0f416",
   "metadata": {},
   "source": [
    "Stop the master and worker :: :: :: $SPARK_HOME/sbin/stop-worker.sh       $SPARK_HOME/sbin/stop-master.sh        \n"
   ]
  },
  {
   "cell_type": "code",
   "execution_count": null,
   "id": "78597886-d728-422f-a29a-06c09ae95f5d",
   "metadata": {},
   "outputs": [],
   "source": []
  },
  {
   "cell_type": "code",
   "execution_count": 1,
   "id": "4d746cfe-c7c4-4016-a09f-bcc74c5feb94",
   "metadata": {},
   "outputs": [
    {
     "name": "stderr",
     "output_type": "stream",
     "text": [
      "Setting default log level to \"WARN\".\n",
      "To adjust logging level use sc.setLogLevel(newLevel). For SparkR, use setLogLevel(newLevel).\n",
      "24/12/30 20:06:50 WARN NativeCodeLoader: Unable to load native-hadoop library for your platform... using builtin-java classes where applicable\n"
     ]
    }
   ],
   "source": [
    "import pyspark\n",
    "from pyspark.sql import SparkSession\n",
    "\n",
    "spark = SparkSession.builder \\\n",
    "    .master(\"spark://project-001.europe-west10-b.c.project-001-445912.internal:7077\") \\\n",
    "    .appName('test') \\\n",
    "    .getOrCreate()"
   ]
  },
  {
   "cell_type": "code",
   "execution_count": 2,
   "id": "3eb2db53-639d-450b-81c2-26b2ef34e438",
   "metadata": {},
   "outputs": [
    {
     "data": {
      "text/html": [
       "\n",
       "            <div>\n",
       "                <p><b>SparkSession - in-memory</b></p>\n",
       "                \n",
       "        <div>\n",
       "            <p><b>SparkContext</b></p>\n",
       "\n",
       "            <p><a href=\"http://project-001.europe-west10-b.c.project-001-445912.internal:4040\">Spark UI</a></p>\n",
       "\n",
       "            <dl>\n",
       "              <dt>Version</dt>\n",
       "                <dd><code>v3.4.4</code></dd>\n",
       "              <dt>Master</dt>\n",
       "                <dd><code>spark://project-001.europe-west10-b.c.project-001-445912.internal:7077</code></dd>\n",
       "              <dt>AppName</dt>\n",
       "                <dd><code>test</code></dd>\n",
       "            </dl>\n",
       "        </div>\n",
       "        \n",
       "            </div>\n",
       "        "
      ],
      "text/plain": [
       "<pyspark.sql.session.SparkSession at 0x7097801772c0>"
      ]
     },
     "execution_count": 2,
     "metadata": {},
     "output_type": "execute_result"
    }
   ],
   "source": [
    "spark"
   ]
  },
  {
   "cell_type": "code",
   "execution_count": 5,
   "id": "ba43acb6-6b09-447e-ad00-f012d75af4f2",
   "metadata": {},
   "outputs": [
    {
     "name": "stderr",
     "output_type": "stream",
     "text": [
      "                                                                                \r"
     ]
    }
   ],
   "source": [
    "data = spark.read.parquet('eda_final.parquet')"
   ]
  },
  {
   "cell_type": "code",
   "execution_count": 6,
   "id": "f8460a13-6c4a-4988-aa47-2a921e176f1e",
   "metadata": {},
   "outputs": [
    {
     "name": "stderr",
     "output_type": "stream",
     "text": [
      "                                                                                \r"
     ]
    },
    {
     "data": {
      "text/plain": [
       "17366937"
      ]
     },
     "execution_count": 6,
     "metadata": {},
     "output_type": "execute_result"
    }
   ],
   "source": [
    "data.count()"
   ]
  }
 ],
 "metadata": {
  "kernelspec": {
   "display_name": "Python 3 (ipykernel)",
   "language": "python",
   "name": "python3"
  },
  "language_info": {
   "codemirror_mode": {
    "name": "ipython",
    "version": 3
   },
   "file_extension": ".py",
   "mimetype": "text/x-python",
   "name": "python",
   "nbconvert_exporter": "python",
   "pygments_lexer": "ipython3",
   "version": "3.12.7"
  }
 },
 "nbformat": 4,
 "nbformat_minor": 5
}
