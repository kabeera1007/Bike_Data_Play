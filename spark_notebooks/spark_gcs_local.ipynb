{
 "cells": [
  {
   "cell_type": "markdown",
   "id": "f9e8cfb2-253e-44af-bebe-aa51f44e5e54",
   "metadata": {},
   "source": [
    "###  project-01@project-001:~/spark$ gsutil -m cp -r eda_final.parquet/ gs://root-bucket-1007/pq\n"
   ]
  },
  {
   "cell_type": "markdown",
   "id": "9ceb75b1-fd62-4eb3-ae77-3318a0ab6396",
   "metadata": {},
   "source": [
    "### gsutil cp gs://hadoop-lib/gcs/gcs-connector-hadoop3-2.2.5.jar .\n"
   ]
  },
  {
   "cell_type": "code",
   "execution_count": 1,
   "id": "079bd17e-2e60-4541-b194-67d1d20de204",
   "metadata": {},
   "outputs": [],
   "source": [
    "import pyspark\n",
    "from pyspark.sql import SparkSession\n",
    "from pyspark.conf import SparkConf\n",
    "from pyspark.context import SparkContext"
   ]
  },
  {
   "cell_type": "code",
   "execution_count": 2,
   "id": "bbc88aaf-fd16-41c5-855d-cb6d5389824e",
   "metadata": {},
   "outputs": [],
   "source": [
    "credentials_location = 'project-001.json'\n",
    "\n",
    "conf = SparkConf() \\\n",
    "    .setMaster('local[*]') \\\n",
    "    .setAppName('test') \\\n",
    "    .set(\"spark.jars\", \"./lib/gcs-connector-hadoop3-2.2.5.jar\") \\\n",
    "    .set(\"spark.hadoop.google.cloud.auth.service.account.enable\", \"true\") \\\n",
    "    .set(\"spark.hadoop.google.cloud.auth.service.account.json.keyfile\", credentials_location)"
   ]
  },
  {
   "cell_type": "code",
   "execution_count": 3,
   "id": "4b1e7b79-fe5e-4a61-8775-0fa30635460c",
   "metadata": {},
   "outputs": [
    {
     "name": "stderr",
     "output_type": "stream",
     "text": [
      "24/12/30 14:25:51 WARN NativeCodeLoader: Unable to load native-hadoop library for your platform... using builtin-java classes where applicable\n",
      "Setting default log level to \"WARN\".\n",
      "To adjust logging level use sc.setLogLevel(newLevel). For SparkR, use setLogLevel(newLevel).\n"
     ]
    }
   ],
   "source": [
    "sc = SparkContext(conf=conf)\n",
    "\n",
    "hadoop_conf = sc._jsc.hadoopConfiguration()\n",
    "\n",
    "hadoop_conf.set(\"fs.AbstractFileSystem.gs.impl\",  \"com.google.cloud.hadoop.fs.gcs.GoogleHadoopFS\")\n",
    "hadoop_conf.set(\"fs.gs.impl\", \"com.google.cloud.hadoop.fs.gcs.GoogleHadoopFileSystem\")\n",
    "hadoop_conf.set(\"fs.gs.auth.service.account.json.keyfile\", credentials_location)\n",
    "hadoop_conf.set(\"fs.gs.auth.service.account.enable\", \"true\")"
   ]
  },
  {
   "cell_type": "code",
   "execution_count": 4,
   "id": "d6482502-e55d-49cd-9b0f-afb8380d923f",
   "metadata": {},
   "outputs": [],
   "source": [
    "spark = SparkSession.builder \\\n",
    "    .config(conf=sc.getConf()) \\\n",
    "    .getOrCreate()"
   ]
  },
  {
   "cell_type": "code",
   "execution_count": 5,
   "id": "278720c3-94c2-4b60-ac62-d99084b3038b",
   "metadata": {},
   "outputs": [
    {
     "name": "stderr",
     "output_type": "stream",
     "text": [
      "                                                                                \r"
     ]
    }
   ],
   "source": [
    "data = spark.read.parquet('gs://root-bucket-1007/pq/*/*')"
   ]
  },
  {
   "cell_type": "code",
   "execution_count": 7,
   "id": "8b6e648f-07ac-4f37-8d4c-8a79ae6eb6ad",
   "metadata": {},
   "outputs": [
    {
     "name": "stderr",
     "output_type": "stream",
     "text": [
      "[Stage 3:>                                                          (0 + 1) / 1]\r"
     ]
    },
    {
     "name": "stdout",
     "output_type": "stream",
     "text": [
      "+----------------+-------------+-------------------+-------------------+--------------------+----------------+--------------------+--------------+---------+---------+-------------+---------------+---------------+------------------+-----------+-----------+\n",
      "|         ride_id|rideable_type|         started_at|           ended_at|  start_station_name|start_station_id|    end_station_name|end_station_id|start_lat|start_lng|member_casual|end_lat_imputed|end_lng_imputed|     ride_duration|time_of_day|day_of_week|\n",
      "+----------------+-------------+-------------------+-------------------+--------------------+----------------+--------------------+--------------+---------+---------+-------------+---------------+---------------+------------------+-----------+-----------+\n",
      "|0A1B623926EF4E16|  docked_bike|2021-07-02 14:44:36|2021-07-02 15:19:58|Michigan Ave & Wa...|           13001|Halsted St & Nort...|  KA1504000117|41.883984|-87.62469|       casual|       41.89937|      -87.64848| 35.36666666666667|         14|     Friday|\n",
      "|65BEAC326B511F40| classic_bike|2021-07-26 05:39:55|2021-07-26 05:51:23|Desplaines St & K...|    TA1306000003|Dearborn Pkwy & D...|  TA1307000128|41.888718|-87.64445|       member|      41.898968|      -87.62991|11.466666666666667|          5|     Monday|\n",
      "|B2D5583A5A5E76EE| classic_bike|2021-07-07 16:57:42|2021-07-07 17:16:09|California Ave & ...|           17660|Wood St & Hubbard St|         13432|41.900364| -87.6967|       casual|        41.8899|      -87.67147|             18.45|         16|  Wednesday|\n",
      "|E365B9AC8D79EE51|electric_bike|2021-07-28 07:30:00|2021-07-28 07:35:16|Wells St & Walton St|    TA1306000011|Orleans St & Merc...|  TA1305000022| 41.89991|-87.63445|       member|      41.888157|       -87.6356| 5.266666666666667|          7|  Wednesday|\n",
      "|6F264597DDBF427A| classic_bike|2021-07-25 11:30:55|2021-07-25 11:48:45|Wabash Ave & 16th St|          SL-012|Rush St & Hubbard St|  KA1503000044|41.860386|-87.62582|       member|      41.890175|      -87.62618|17.833333333333332|         11|     Sunday|\n",
      "+----------------+-------------+-------------------+-------------------+--------------------+----------------+--------------------+--------------+---------+---------+-------------+---------------+---------------+------------------+-----------+-----------+\n",
      "only showing top 5 rows\n",
      "\n"
     ]
    },
    {
     "name": "stderr",
     "output_type": "stream",
     "text": [
      "                                                                                \r"
     ]
    }
   ],
   "source": [
    "data.show(5)"
   ]
  }
 ],
 "metadata": {
  "kernelspec": {
   "display_name": "Python 3 (ipykernel)",
   "language": "python",
   "name": "python3"
  },
  "language_info": {
   "codemirror_mode": {
    "name": "ipython",
    "version": 3
   },
   "file_extension": ".py",
   "mimetype": "text/x-python",
   "name": "python",
   "nbconvert_exporter": "python",
   "pygments_lexer": "ipython3",
   "version": "3.12.7"
  }
 },
 "nbformat": 4,
 "nbformat_minor": 5
}
